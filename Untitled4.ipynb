{
 "cells": [
  {
   "cell_type": "code",
   "execution_count": 1,
   "id": "ee1c1fe5-9154-4399-9e8f-11248f5c4323",
   "metadata": {},
   "source": [
    "os.environ[\"DJANGO_ALLOW_ASYNC_UNSAFE\"] = \"true\"\n",
    "\n",
    "from prelo.models import PitchDeck\n",
    "from asgiref.sync import sync_to_async\n",
    "from prelo.models import PitchDeck\n",
    "from concurrent.futures import ThreadPoolExecutor\n",
    "from decouple import config\n",
    "from langchain_core.output_parsers import StrOutputParser\n",
    "from langchain_core.output_parsers.openai_functions import JsonOutputFunctionsParser, JsonKeyOutputFunctionsParser\n",
    "from langchain_core.prompts import ChatPromptTemplate\n",
    "from langchain_openai import ChatOpenAI\n",
    "from submind.tasks import think, chat, complete_goals, complete_goal,create_structure\n",
    "from submind.models import Goal,Submind\n",
    "import uuid\n",
    "from submind.llms.submind import SubmindModelFactory\n",
    "from submind.memory.memory import remember\n",
    "from submind.models import Conversation, Message "
   ],
   "outputs": []
  },
  {
   "cell_type": "code",
   "execution_count": 2,
   "id": "3c3c3a2e-e480-4142-837e-b91e04d18336",
   "metadata": {},
   "source": [
    "deck_1 = PitchDeck.objects.get(id=41)\n",
    "deck_2 = PitchDeck.objects.get(id=36)"
   ],
   "outputs": []
  },
  {
   "cell_type": "code",
   "execution_count": 3,
   "id": "74817807-9893-40cb-a04b-e10c988ad4e6",
   "metadata": {},
   "source": [
    "# let's take a look at the analysis of pitch deck 1:\n",
    "\n",
    "print(deck_1.analysis.initial_analysis)\n",
    "print(deck_1.analysis.extra_analysis)\n",
    "print(deck_1.analysis.report)"
   ],
   "outputs": []
  },
  {
   "cell_type": "code",
   "execution_count": 4,
   "id": "be589b4c-f39c-4a22-8086-982676be5c81",
   "metadata": {},
   "source": [
    "print(deck_2.analysis.initial_analysis)\n",
    "print(deck_2.analysis.extra_analysis)\n",
    "print(deck_2.analysis.report)"
   ],
   "outputs": []
  },
  {
   "cell_type": "code",
   "execution_count": 4,
   "id": "0721ad61-2234-4ce1-8eb1-b7ec55efa857",
   "metadata": {},
   "source": [
    "IDENTIFY_UPDATES_PROMPT = \"\"\"You are a powerful submind for a top early-stage investor.\n",
    "\n",
    "Here's what you know about early-stage investing: {mind}\n",
    "\n",
    "You are reviewing an updated version of a pitch deck.\n",
    "\n",
    "Here's the earlier version: {earlier_deck}\n",
    "\n",
    "Here's the newer version: {newer_deck}\n",
    "\n",
    "\n",
    "Identify the changes that have been made to the deck. Focus on the parts added, the parts removed, and the parts changed.\n",
    "\"\"\"\n",
    "submind = Submind.objects.get(id=5)\n",
    "submind_document = remember(submind)\n",
    "\n",
    "model = SubmindModelFactory.get_model(submind.uuid, \"identify_updates\")\n",
    "\n",
    "\n",
    "prompt = ChatPromptTemplate.from_template(IDENTIFY_UPDATES_PROMPT)\n",
    "chain = prompt | model | StrOutputParser()\n",
    "\n",
    "\n",
    "response = chain.invoke(\n",
    "        {\"mind\": submind_document,\n",
    "         \"earlier_deck\": deck_2.analysis.compiled_slides,\n",
    "         \"newer_deck\":deck_1.analysis.compiled_slides,\n",
    "        })\n",
    "print(response)"
   ],
   "outputs": []
  },
  {
   "cell_type": "code",
   "execution_count": 5,
   "id": "f1e8f464-204c-43e7-8611-60c8587ae6d7",
   "metadata": {},
   "source": [
    "DID_FOUNDER_ADDRESS_CONCERNS = \"\"\"You are a powerful submind for a top early-stage investor.\n",
    "\n",
    "Here's what you know about early-stage investing: {mind}\n",
    "\n",
    "You are reviewing an updated version of a pitch deck.\n",
    "\n",
    "Here are the changes made to the deck: {changes}\n",
    "\n",
    "Here was your initial feedback to the founder: {feedback}\n",
    "\n",
    "Based on the changes, determine how well the founder addressed the concerns.\n",
    "Are there concerns that weren't addressed? \n",
    "\n",
    "Finally, are there any new concerns based on information added or removed?\n",
    "\"\"\"\n",
    "\n",
    "\n",
    "model = SubmindModelFactory.get_model(submind.uuid, \"did_address_concerns\")\n",
    "\n",
    "\n",
    "prompt = ChatPromptTemplate.from_template(DID_FOUNDER_ADDRESS_CONCERNS)\n",
    "chain = prompt | model | StrOutputParser()\n",
    "\n",
    "\n",
    "addressed = chain.invoke(\n",
    "        {\"mind\": submind_document,\n",
    "         \"changes\": response,\n",
    "         \"feedback\":deck_2.analysis.extra_analysis,\n",
    "        })\n",
    "print(addressed)"
   ],
   "outputs": []
  }
 ],
 "metadata": {
  "kernelspec": {
   "display_name": "Django Environment",
   "language": "python",
   "name": "django_env"
  },
  "language_info": {
   "codemirror_mode": {
    "name": "ipython",
    "version": 3
   },
   "file_extension": ".py",
   "mimetype": "text/x-python",
   "name": "python",
   "nbconvert_exporter": "python",
   "pygments_lexer": "ipython3",
   "version": "3.12.1"
  }
 },
 "nbformat": 4,
 "nbformat_minor": 5
}
