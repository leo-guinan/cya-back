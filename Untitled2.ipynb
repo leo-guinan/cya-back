{
 "cells": [
  {
   "cell_type": "code",
   "execution_count": 1,
   "id": "a18cfa17-46bf-40a1-9306-30210cbcc5e4",
   "metadata": {},
   "outputs": [
    {
     "name": "stderr",
     "output_type": "stream",
     "text": [
      "/Users/leoguinan/Library/Caches/pypoetry/virtualenvs/backend-hNkkeHAR-py3.12/lib/python3.12/site-packages/pinecone/data/index.py:1: TqdmWarning: IProgress not found. Please update jupyter and ipywidgets. See https://ipywidgets.readthedocs.io/en/stable/user_install.html\n",
      "  from tqdm.autonotebook import tqdm\n"
     ]
    }
   ],
   "source": [
    "os.environ[\"DJANGO_ALLOW_ASYNC_UNSAFE\"] = \"true\"\n",
    "\n",
    "from submind.tasks import create_structure, receive_messages, finalize_conversations, ask_children\n",
    "from submind.models import Submind\n",
    "import uuid\n",
    "\n"
   ]
  },
  {
   "cell_type": "code",
   "execution_count": 6,
   "id": "d19f4d7b-2c92-426e-8366-82ec2fb2f975",
   "metadata": {},
   "outputs": [],
   "source": [
    "submind = Submind.objects.create(name=\"Arvid Kahl\", description=\"a submind for Arvid Kahl's Podscan application that is focused on marketing.\" , uuid=str(uuid.uuid4()),\n",
    "                                 mindUUID=u)\n",
    "\n"
   ]
  },
  {
   "cell_type": "code",
   "execution_count": 9,
   "id": "8ac9f7e7-451d-47fe-8d32-778e39218675",
   "metadata": {},
   "outputs": [
    {
     "data": {
      "text/plain": [
       "467"
      ]
     },
     "execution_count": 9,
     "metadata": {},
     "output_type": "execute_result"
    }
   ],
   "source": [
    "submind.id"
   ]
  },
  {
   "cell_type": "code",
   "execution_count": 7,
   "id": "256322d2-eded-4cd0-9000-80acc0ca7855",
   "metadata": {},
   "outputs": [
    {
     "data": {
      "text/plain": [
       "<AsyncResult: f89ec7a6-651d-46a5-827d-390c6e22e3ef>"
      ]
     },
     "execution_count": 7,
     "metadata": {},
     "output_type": "execute_result"
    }
   ],
   "source": [
    "create_structure.delay(name=\"ICP Understander\", intent=\"Ideally, I would be very present on the radar of my ICP, podcast booking agencies and the people who work there, placing their already somewhat established clients on podcasts. They'd find content and tools I created for them, and they'd try out Podscan because they hear their peers talk about it.\", parent_id=submind.id)\n"
   ]
  },
  {
   "cell_type": "code",
   "execution_count": 2,
   "id": "2c457337-500a-41d9-adbc-b8dc2f1956ae",
   "metadata": {},
   "outputs": [],
   "source": [
    "ask_children(467, \"How can I become present in the world of my ICP constantly?\")\n"
   ]
  }
 ],
 "metadata": {
  "kernelspec": {
   "display_name": "Django Environment",
   "language": "python",
   "name": "django_env"
  },
  "language_info": {
   "codemirror_mode": {
    "name": "ipython",
    "version": 3
   },
   "file_extension": ".py",
   "mimetype": "text/x-python",
   "name": "python",
   "nbconvert_exporter": "python",
   "pygments_lexer": "ipython3",
   "version": "3.12.1"
  }
 },
 "nbformat": 4,
 "nbformat_minor": 5
}
