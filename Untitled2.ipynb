{
 "cells": [
  {
   "cell_type": "code",
   "execution_count": 1,
   "id": "a18cfa17-46bf-40a1-9306-30210cbcc5e4",
   "metadata": {},
   "outputs": [
    {
     "name": "stderr",
     "output_type": "stream",
     "text": [
      "/Users/leoguinan/Library/Caches/pypoetry/virtualenvs/backend-hNkkeHAR-py3.12/lib/python3.12/site-packages/pinecone/data/index.py:1: TqdmWarning: IProgress not found. Please update jupyter and ipywidgets. See https://ipywidgets.readthedocs.io/en/stable/user_install.html\n",
      "  from tqdm.autonotebook import tqdm\n"
     ]
    }
   ],
   "source": [
    "os.environ[\"DJANGO_ALLOW_ASYNC_UNSAFE\"] = \"true\"\n",
    "\n",
    "from submind.tasks import create_structure, receive_messages, finalize_conversations, ask_children\n",
    "from submind.models import Submind\n",
    "import uuid\n",
    "\n"
   ]
  },
  {
   "cell_type": "code",
   "execution_count": 4,
   "id": "d19f4d7b-2c92-426e-8366-82ec2fb2f975",
   "metadata": {},
   "outputs": [],
   "source": [
    "u = uuid.uuid4()\n",
    "submind = Submind.objects.create(name=\"Arvid Kahl\", description=\"a submind for Arvid Kahl's Podscan application that is focused on marketing.\" , uuid=str(uuid.uuid4()),\n",
    "                                 mindUUID=u)\n",
    "\n"
   ]
  },
  {
   "cell_type": "code",
   "execution_count": 5,
   "id": "8ac9f7e7-451d-47fe-8d32-778e39218675",
   "metadata": {},
   "outputs": [
    {
     "data": {
      "text/plain": [
       "482"
      ]
     },
     "execution_count": 5,
     "metadata": {},
     "output_type": "execute_result"
    }
   ],
   "source": [
    "submind.id"
   ]
  },
  {
   "cell_type": "code",
   "execution_count": 6,
   "id": "256322d2-eded-4cd0-9000-80acc0ca7855",
   "metadata": {},
   "outputs": [
    {
     "data": {
      "text/plain": [
       "<AsyncResult: f49bf7d8-edec-42fd-982a-8e515229ddc9>"
      ]
     },
     "execution_count": 6,
     "metadata": {},
     "output_type": "execute_result"
    }
   ],
   "source": [
    "create_structure.delay(name=\"Podscan ICP Understander\", intent=\"\"\"Podscan description: Get notified immediately when a podcast mentions\n",
    "your products \n",
    "Media monitoring, social listening, and full-text search for podcasts. All podcasts. Goal: Ideally, I would be very present on the radar of my ICP, podcast booking agencies and the people who work there, placing their already somewhat established clients on podcasts. They'd find content and tools I created for them, and they'd try out Podscan because they hear their peers talk about it.\"\"\", parent_id=submind.id)\n"
   ]
  },
  {
   "cell_type": "code",
   "execution_count": 7,
   "id": "2c457337-500a-41d9-adbc-b8dc2f1956ae",
   "metadata": {},
   "outputs": [],
   "source": [
    "ask_children(482, \"How can I become present in the world of my ICP constantly?\")\n"
   ]
  },
  {
   "cell_type": "code",
   "execution_count": 11,
   "id": "3ecd3f7b-919a-4995-bed1-1ab519380f5c",
   "metadata": {},
   "outputs": [
    {
     "name": "stdout",
     "output_type": "stream",
     "text": [
      "found 18 conversations to finalize...\n",
      "\n",
      "\n",
      "Looks like conversation 302 hasn't received any messages yet from 468...\n",
      "\n",
      "\n",
      "Checking blocking conversation 304 to see if finished...\n",
      "Not finished, bailing...\n",
      "Checking blocking conversation 307 to see if finished...\n",
      "Not finished, bailing...\n",
      "Checking blocking conversation 310 to see if finished...\n",
      "Not finished, bailing...\n",
      "Checking blocking conversation 313 to see if finished...\n",
      "Not finished, bailing...\n",
      "Checking blocking conversation 312 to see if finished...\n",
      "Not finished, bailing...\n",
      "Checking blocking conversation 306 to see if finished...\n",
      "Not finished, bailing...\n",
      "Checking blocking conversation 305 to see if finished...\n",
      "Not finished, bailing...\n",
      "Checking blocking conversation 309 to see if finished...\n",
      "Not finished, bailing...\n",
      "Checking blocking conversation 308 to see if finished...\n",
      "Not finished, bailing...\n",
      "Checking blocking conversation 316 to see if finished...\n",
      "Not finished, bailing...\n",
      "Checking blocking conversation 311 to see if finished...\n",
      "Not finished, bailing...\n",
      "Checking blocking conversation 314 to see if finished...\n",
      "Not finished, bailing...\n",
      "Checking blocking conversation 315 to see if finished...\n",
      "Not finished, bailing...\n",
      "Checking blocking conversation 317 to see if finished...\n",
      "Not finished, bailing...\n",
      "Checking blocking conversation 318 to see if finished...\n",
      "Not finished, bailing...\n",
      "Checking blocking conversation 319 to see if finished...\n",
      "Not finished, bailing...\n",
      "Now responding to outstanding message...\n",
      "\n",
      "\n",
      "Now responding to outstanding message...\n",
      "\n",
      "\n",
      "Now responding to outstanding message...\n",
      "\n",
      "\n",
      "Now responding to outstanding message...\n",
      "\n",
      "\n",
      "Now responding to outstanding message...\n",
      "\n",
      "\n",
      "Now responding to outstanding message...\n",
      "\n",
      "\n",
      "Now responding to outstanding message...\n",
      "\n",
      "\n",
      "Now responding to outstanding message...\n",
      "\n",
      "\n",
      "Looks like conversation 316 hasn't received any messages yet from 498...\n",
      "\n",
      "\n",
      "Now responding to outstanding message...\n",
      "\n",
      "\n",
      "Looks like conversation 314 hasn't received any messages yet from 498...\n",
      "\n",
      "\n",
      "Looks like conversation 315 hasn't received any messages yet from 498...\n",
      "\n",
      "\n",
      "Looks like conversation 317 hasn't received any messages yet from 498...\n",
      "\n",
      "\n",
      "Looks like conversation 318 hasn't received any messages yet from 498...\n",
      "\n",
      "\n",
      "Looks like conversation 319 hasn't received any messages yet from 498...\n",
      "\n",
      "\n"
     ]
    }
   ],
   "source": [
    "finalize_conversations()"
   ]
  },
  {
   "cell_type": "code",
   "execution_count": 10,
   "id": "9a13a8fd-5962-41bd-aa91-c6592298332c",
   "metadata": {},
   "outputs": [
    {
     "name": "stdout",
     "output_type": "stream",
     "text": [
      "found 187 messages to receive...\n",
      "\n",
      "\n",
      "Beginning learning process\n",
      "Existing mind: \n",
      "New mind: Based on the provided information, here is the updated understanding of the operations, influence, and decision-making processes within podcast booking agencies with a focus on the benefits of using a hypothetical software tool like Podscan:\n",
      "\n",
      "1. **Automated Guest Matching**: Podscan could enhance the efficiency of podcast booking agencies by using algorithms to match guests with hosts based on various criteria such as topic relevance, audience demographics, and previous performance metrics. This automation would speed up the booking process, reduce errors, and ensure better matches.\n",
      "\n",
      "2. **Streamlined Communication**: The tool could centralize communication channels within its platform, facilitating seamless interactions between booking agents, hosts, and guests. This would help in reducing miscommunications and lost information, making the process more efficient.\n",
      "\n",
      "3. **Enhanced Scheduling**: Podscan could provide a sophisticated scheduling system that updates in real-time, helping to avoid booking conflicts and manage reschedules and cancellations more effectively. It could also integrate with personal and professional calendars to display available timeslots clearly.\n",
      "\n",
      "4. **Data Analytics and Reporting**: The software would offer data analytics capabilities, allowing agencies to track key performance indicators such as audience growth and engagement rates. This data could be used to refine guest selection strategies and demonstrate value to advertisers or sponsors.\n",
      "\n",
      "5. **Workflow Automation**: Podscan could automate routine tasks like follow-ups, feedback collection, and initial guest vetting. This would allow agents to focus on strategic activities such as relationship building and network expansion.\n",
      "\n",
      "6. **Customizable Management Dashboards**: The tool could feature customizable dashboards for managers to monitor team workflows, track bookings, and assess agent productivity. This would aid in resource management and help identify process bottlenecks.\n",
      "\n",
      "7. **Compliance and Quality Control**: Features ensuring compliance with industry standards and maintaining a quality control checklist would be included. This would ensure that each podcast episode meets technical and content standards before release.\n",
      "\n",
      "8. **Feedback Loop Integration**: Incorporating a feedback loop would enable continuous improvement of services. Feedback from hosts, guests, and listeners could be analyzed to inform future bookings and content strategies.\n",
      "\n",
      "Overall, the integration of Podscan into the operations of podcast booking agencies could significantly streamline their workflow, enhance management structures, and improve the overall quality and effectiveness of their services. This could lead to higher-quality content, more satisfied hosts and guests, and increased listener engagement.\n"
     ]
    }
   ],
   "source": [
    "receive_messages()"
   ]
  }
 ],
 "metadata": {
  "kernelspec": {
   "display_name": "Django Environment",
   "language": "python",
   "name": "django_env"
  },
  "language_info": {
   "codemirror_mode": {
    "name": "ipython",
    "version": 3
   },
   "file_extension": ".py",
   "mimetype": "text/x-python",
   "name": "python",
   "nbconvert_exporter": "python",
   "pygments_lexer": "ipython3",
   "version": "3.12.1"
  }
 },
 "nbformat": 4,
 "nbformat_minor": 5
}
