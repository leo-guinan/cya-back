{
 "cells": [
  {
   "cell_type": "code",
   "execution_count": 8,
   "id": "ecda38cd-9220-45fe-ae0a-086519fefb8f",
   "metadata": {},
   "outputs": [],
   "source": [
    "os.environ[\"DJANGO_ALLOW_ASYNC_UNSAFE\"] = \"true\"\n",
    "\n",
    "from langchain_community.document_loaders import AsyncChromiumLoader\n",
    "from langchain_community.document_transformers import BeautifulSoupTransformer\n",
    "import nest_asyncio\n",
    "nest_asyncio.apply()\n",
    "# Load HTML\n",
    "\n",
    "loader = AsyncChromiumLoader([\"https://ideasupplychain.com\"])\n",
    "html = loader.load()\n"
   ]
  },
  {
   "cell_type": "code",
   "execution_count": 9,
   "id": "8c187f83-d13f-4c6d-9f69-8c889aa40880",
   "metadata": {},
   "outputs": [
    {
     "data": {
      "text/plain": [
       "[Document(page_content='<!DOCTYPE html><html lang=\"en\" class=\"has-dark-text\"><head>\\n\\n    <title>Idea Supply Chain</title>\\n    <meta charset=\"utf-8\">\\n    <meta name=\"viewport\" content=\"width=device-width, initial-scale=1.0\">\\n    \\n    <link rel=\"preload\" as=\"style\" href=\"/assets/built/screen.css?v=1be1ca579d\">\\n    <link rel=\"preload\" as=\"script\" href=\"/assets/built/source.js?v=1be1ca579d\">\\n\\n    <link rel=\"stylesheet\" type=\"text/css\" href=\"/assets/built/screen.css?v=1be1ca579d\">\\n\\n    <style>\\n        :root {\\n            --background-color: #ffffff\\n        }\\n    </style>\\n\\n    <script>\\n        /* The script for calculating the color contrast has been taken from\\n        https://gomakethings.com/dynamically-changing-the-text-color-based-on-background-color-contrast-with-vanilla-js/ */\\n        var accentColor = getComputedStyle(document.documentElement).getPropertyValue(\\'--background-color\\');\\n        accentColor = accentColor.trim().slice(1);\\n        var r = parseInt(accentColor.substr(0, 2), 16);\\n        var g = parseInt(accentColor.substr(2, 2), 16);\\n        var b = parseInt(accentColor.substr(4, 2), 16);\\n        var yiq = ((r * 299) + (g * 587) + (b * 114)) / 1000;\\n        var textColor = (yiq >= 128) ? \\'dark\\' : \\'light\\';\\n\\n        document.documentElement.className = `has-${textColor}-text`;\\n    </script>\\n\\n    <meta name=\"description\" content=\"Thoughts, stories and ideas.\">\\n    <link rel=\"canonical\" href=\"https://ideasupplychain.com/\">\\n    <meta name=\"referrer\" content=\"no-referrer-when-downgrade\">\\n    \\n    <meta property=\"og:site_name\" content=\"Idea Supply Chain\">\\n    <meta property=\"og:type\" content=\"website\">\\n    <meta property=\"og:title\" content=\"Idea Supply Chain\">\\n    <meta property=\"og:description\" content=\"Thoughts, stories and ideas.\">\\n    <meta property=\"og:url\" content=\"https://ideasupplychain.com/\">\\n    <meta property=\"og:image\" content=\"https://static.ghost.org/v5.0.0/images/publication-cover.jpg\">\\n    <meta property=\"article:publisher\" content=\"https://www.facebook.com/ghost\">\\n    <meta name=\"twitter:card\" content=\"summary_large_image\">\\n    <meta name=\"twitter:title\" content=\"Idea Supply Chain\">\\n    <meta name=\"twitter:description\" content=\"Thoughts, stories and ideas.\">\\n    <meta name=\"twitter:url\" content=\"https://ideasupplychain.com/\">\\n    <meta name=\"twitter:image\" content=\"https://static.ghost.org/v5.0.0/images/publication-cover.jpg\">\\n    <meta name=\"twitter:site\" content=\"@ghost\">\\n    <meta property=\"og:image:width\" content=\"5000\">\\n    <meta property=\"og:image:height\" content=\"3500\">\\n    \\n    <script type=\"application/ld+json\">\\n{\\n    \"@context\": \"https://schema.org\",\\n    \"@type\": \"WebSite\",\\n    \"publisher\": {\\n        \"@type\": \"Organization\",\\n        \"name\": \"Idea Supply Chain\",\\n        \"url\": \"https://ideasupplychain.com/\",\\n        \"logo\": {\\n            \"@type\": \"ImageObject\",\\n            \"url\": \"https://ideasupplychain.com/favicon.ico\",\\n            \"width\": 48,\\n            \"height\": 48\\n        }\\n    },\\n    \"url\": \"https://ideasupplychain.com/\",\\n    \"image\": {\\n        \"@type\": \"ImageObject\",\\n        \"url\": \"https://static.ghost.org/v5.0.0/images/publication-cover.jpg\",\\n        \"width\": 5000,\\n        \"height\": 3500\\n    },\\n    \"mainEntityOfPage\": \"https://ideasupplychain.com/\",\\n    \"description\": \"Thoughts, stories and ideas.\"\\n}\\n    </script>\\n\\n    <meta name=\"generator\" content=\"Ghost 5.67\">\\n    <link rel=\"alternate\" type=\"application/rss+xml\" title=\"Idea Supply Chain\" href=\"https://ideasupplychain.com/rss/\">\\n    <script defer=\"\" src=\"https://cdn.jsdelivr.net/ghost/portal@~2.36/umd/portal.min.js\" data-i18n=\"false\" data-ghost=\"https://ideasupplychain.com/\" data-key=\"5b1f52fe526bfae0da31f837a8\" data-api=\"https://ideasupplychain.com/ghost/api/content/\" crossorigin=\"anonymous\"></script><style id=\"gh-members-styles\">.gh-post-upgrade-cta-content,\\n.gh-post-upgrade-cta {\\n    display: flex;\\n    flex-direction: column;\\n    align-items: center;\\n    font-family: -apple-system, BlinkMacSystemFont, \\'Segoe UI\\', Roboto, Oxygen, Ubuntu, Cantarell, \\'Open Sans\\', \\'Helvetica Neue\\', sans-serif;\\n    text-align: center;\\n    width: 100%;\\n    color: #ffffff;\\n    font-size: 16px;\\n}\\n\\n.gh-post-upgrade-cta-content {\\n    border-radius: 8px;\\n    padding: 40px 4vw;\\n}\\n\\n.gh-post-upgrade-cta h2 {\\n    color: #ffffff;\\n    font-size: 28px;\\n    letter-spacing: -0.2px;\\n    margin: 0;\\n    padding: 0;\\n}\\n\\n.gh-post-upgrade-cta p {\\n    margin: 20px 0 0;\\n    padding: 0;\\n}\\n\\n.gh-post-upgrade-cta small {\\n    font-size: 16px;\\n    letter-spacing: -0.2px;\\n}\\n\\n.gh-post-upgrade-cta a {\\n    color: #ffffff;\\n    cursor: pointer;\\n    font-weight: 500;\\n    box-shadow: none;\\n    text-decoration: underline;\\n}\\n\\n.gh-post-upgrade-cta a:hover {\\n    color: #ffffff;\\n    opacity: 0.8;\\n    box-shadow: none;\\n    text-decoration: underline;\\n}\\n\\n.gh-post-upgrade-cta a.gh-btn {\\n    display: block;\\n    background: #ffffff;\\n    text-decoration: none;\\n    margin: 28px 0 0;\\n    padding: 8px 18px;\\n    border-radius: 4px;\\n    font-size: 16px;\\n    font-weight: 600;\\n}\\n\\n.gh-post-upgrade-cta a.gh-btn:hover {\\n    opacity: 0.92;\\n}</style>\\n    <script defer=\"\" src=\"https://cdn.jsdelivr.net/ghost/sodo-search@~1.1/umd/sodo-search.min.js\" data-key=\"5b1f52fe526bfae0da31f837a8\" data-styles=\"https://cdn.jsdelivr.net/ghost/sodo-search@~1.1/umd/main.css\" data-sodo-search=\"https://ideasupplychain.com/\" crossorigin=\"anonymous\"></script>\\n    \\n    <link href=\"https://ideasupplychain.com/webmentions/receive/\" rel=\"webmention\">\\n    <script defer=\"\" src=\"/public/cards.min.js?v=1be1ca579d\"></script>\\n    <link rel=\"stylesheet\" type=\"text/css\" href=\"/public/cards.min.css?v=1be1ca579d\">\\n    <script defer=\"\" src=\"/public/member-attribution.min.js?v=1be1ca579d\"></script>\\n    <!-- Fathom - beautiful, simple website analytics -->\\n                <script src=\"https://cdn.usefathom.com/script.js\" data-site=\"SULTZVXT\" defer=\"\"></script>\\n              <!-- / Fathom --><style>:root {--ghost-accent-color: #FF1A75;}</style>\\n\\n<style>.gh-portal-account-header{display:flex;flex-direction:column;align-items:center;margin:0 0 32px}.gh-portal-account-header .gh-portal-avatar{margin:6px 0 8px!important}.gh-portal-account-data{margin-bottom:40px}footer.gh-portal-account-footer{display:flex}.gh-portal-account-footer.paid{margin-top:12px}.gh-portal-account-footermenu{display:flex;align-items:center;list-style:none;padding:0;margin:0}.gh-portal-account-footerright{display:flex;flex-grow:1;align-items:center;justify-content:flex-end}.gh-portal-account-footermenu li{margin-right:16px}.gh-portal-account-footermenu li:last-of-type{margin-right:0}.gh-portal-freeaccount-newsletter{display:flex;align-items:center;justify-content:space-between;margin-top:24px}.gh-portal-freeaccount-newsletter .label{display:flex;flex-direction:column;flex-grow:1}.gh-portal-free-ctatext{margin-top:-12px}.gh-portal-cancelcontinue-container{margin:24px 0 32px}.gh-portal-list-detail .gh-portal-email-notice{display:flex;align-items:center;gap:5px;margin-top:6px;color:var(--red);font-weight:500;font-size:1.25rem;letter-spacing:.2px}.gh-portal-email-notice-icon{width:20px;height:20px}.gh-portal-billing-button-loader{width:32px;height:32px;margin-right:-3px;opacity:.6}.gh-portal-product-icon{width:52px;margin-right:12px;border-radius:2px}.gh-portal-account-discountcontainer{position:relative;display:flex;align-items:center}.gh-portal-account-old-price{text-decoration:line-through;color:var(--grey9)!important}.gh-portal-account-tagicon{width:16px;height:16px;color:var(--brandcolor);margin-right:5px;z-index:999}@media (max-width: 390px){.gh-portal-account-footer{padding:0!important}}@media (max-width: 340px){.gh-portal-account-footer{padding:0!important;flex-wrap:wrap;gap:12px}.gh-portal-account-footer .gh-portal-account-footerright{justify-content:flex-start}}.gh-email-suppressed-page-title{margin-bottom:14px}.gh-email-suppressed-page-icon{display:block;width:38px;height:38px;margin:0 auto 18px}.gh-email-suppressed-page-text{padding:0 14px;text-align:center;color:var(--grey6)}.gh-email-faq-footer-text{color:var(--grey8)}.gh-portal-list-detail.email-newsletter .gh-email-faq-page-button{display:block;margin-top:3px}.accountEmail .gh-email-faq-page-button{margin-left:4px}.emailReceivingFAQ .gh-portal-btn-back,.emailReceivingFAQ .gh-portal-btn-back:hover{left:calc(6vmin - 14px)}.emailReceivingFAQ .gh-portal-closeicon-container{right:calc(6vmin - 20px)}@media (max-width: 480px){.emailReceivingFAQ .gh-portal-btn-back,.emailReceivingFAQ .gh-portal-btn-back:hover{left:16px}.emailReceivingFAQ .gh-portal-closeicon-container{right:24px}}.gh-email-faq-page-button{color:var(--brandcolor);cursor:pointer;background:none;transition:color linear .1s;font-size:1.45rem}</style><style>.App{text-align:center}.App-logo{height:40vmin;pointer-events:none}@media (prefers-reduced-motion: no-preference){.App-logo{animation:App-logo-spin infinite 20s linear}}.App-header{background-color:#282c34;min-height:100vh;display:flex;flex-direction:column;align-items:center;justify-content:center;font-size:calc(10px + 2vmin);color:#fff}.App-link{color:#61dafb}@keyframes App-logo-spin{0%{transform:rotate(0)}to{transform:rotate(360deg)}}\\n</style></head>\\n<body class=\"home-template has-sans-title has-sans-body\">\\n\\n<div class=\"gh-viewport\">\\n    \\n    <header id=\"gh-navigation\" class=\"gh-navigation is-middle-logo gh-outer is-dropdown-loaded\">\\n    <div class=\"gh-navigation-inner gh-inner\">\\n\\n        <div class=\"gh-navigation-brand\">\\n            <a class=\"gh-navigation-logo is-title\" href=\"https://ideasupplychain.com\">\\n                    Idea Supply Chain\\n            </a>\\n            <button class=\"gh-search gh-icon-button\" aria-label=\"Search this site\" data-ghost-search=\"\">\\n    <svg xmlns=\"http://www.w3.org/2000/svg\" fill=\"none\" viewBox=\"0 0 24 24\" stroke=\"currentColor\" stroke-width=\"2\" width=\"20\" height=\"20\"><path stroke-linecap=\"round\" stroke-linejoin=\"round\" d=\"M21 21l-6-6m2-5a7 7 0 11-14 0 7 7 0 0114 0z\"></path></svg></button>            <button class=\"gh-burger gh-icon-button\">\\n                <svg xmlns=\"http://www.w3.org/2000/svg\" width=\"24\" height=\"24\" fill=\"currentColor\" viewBox=\"0 0 256 256\"><path d=\"M224,128a8,8,0,0,1-8,8H40a8,8,0,0,1,0-16H216A8,8,0,0,1,224,128ZM40,72H216a8,8,0,0,0,0-16H40a8,8,0,0,0,0,16ZM216,184H40a8,8,0,0,0,0,16H216a8,8,0,0,0,0-16Z\"></path></svg>                <svg xmlns=\"http://www.w3.org/2000/svg\" width=\"24\" height=\"24\" fill=\"currentColor\" viewBox=\"0 0 256 256\"><path d=\"M205.66,194.34a8,8,0,0,1-11.32,11.32L128,139.31,61.66,205.66a8,8,0,0,1-11.32-11.32L116.69,128,50.34,61.66A8,8,0,0,1,61.66,50.34L128,116.69l66.34-66.35a8,8,0,0,1,11.32,11.32L139.31,128Z\"></path></svg>            </button>\\n        </div>\\n\\n        <nav class=\"gh-navigation-menu\">\\n            <ul class=\"nav\">\\n    <li class=\"nav-home nav-current\"><a href=\"https://ideasupplychain.com/\">Home</a></li>\\n    <li class=\"nav-about\"><a href=\"https://ideasupplychain.com/about/\">About</a></li>\\n    <li class=\"nav-what-do-you-want-to-learn\"><a href=\"https://ideasupplychain.com/what-do-you-want-to-learn-more-about/\">What Do You Want To Learn?</a></li>\\n    \\n<button class=\"gh-more-toggle gh-icon-button\" aria-label=\"More\"><svg xmlns=\"http://www.w3.org/2000/svg\" viewBox=\"0 0 32 32\" fill=\"currentColor\"><path d=\"M21.333 16c0-1.473 1.194-2.667 2.667-2.667v0c1.473 0 2.667 1.194 2.667 2.667v0c0 1.473-1.194 2.667-2.667 2.667v0c-1.473 0-2.667-1.194-2.667-2.667v0zM13.333 16c0-1.473 1.194-2.667 2.667-2.667v0c1.473 0 2.667 1.194 2.667 2.667v0c0 1.473-1.194 2.667-2.667 2.667v0c-1.473 0-2.667-1.194-2.667-2.667v0zM5.333 16c0-1.473 1.194-2.667 2.667-2.667v0c1.473 0 2.667 1.194 2.667 2.667v0c0 1.473-1.194 2.667-2.667 2.667v0c-1.473 0-2.667-1.194-2.667-2.667v0z\"></path></svg><div class=\"gh-dropdown\"><li class=\"nav-course\"><a href=\"https://ideasupplychain.com/course-quantum-economics-for-creators/\">Course</a></li></div></button></ul>\\n\\n        </nav>\\n\\n        <div class=\"gh-navigation-actions\">\\n                <button class=\"gh-search gh-icon-button\" aria-label=\"Search this site\" data-ghost-search=\"\">\\n    <svg xmlns=\"http://www.w3.org/2000/svg\" fill=\"none\" viewBox=\"0 0 24 24\" stroke=\"currentColor\" stroke-width=\"2\" width=\"20\" height=\"20\"><path stroke-linecap=\"round\" stroke-linejoin=\"round\" d=\"M21 21l-6-6m2-5a7 7 0 11-14 0 7 7 0 0114 0z\"></path></svg></button>                <div class=\"gh-navigation-members\">\\n                            <a href=\"#/portal/signin\" data-portal=\"signin\" class=\"gh-portal-close\">Sign in</a>\\n                                <a class=\"gh-button gh-portal-close\" href=\"#/portal/signup\" data-portal=\"signup\">Subscribe</a>\\n                </div>\\n        </div>\\n\\n    </div>\\n</header>\\n\\n    \\n\\n                    <section class=\"gh-header is-classic has-image gh-outer\">\\n        \\n                <img class=\"gh-header-image\" src=\"https://static.ghost.org/v5.0.0/images/publication-cover.jpg\" alt=\"Idea Supply Chain\">\\n\\n    <div class=\"gh-header-inner gh-inner\">\\n\\n\\n\\n            <h1 class=\"gh-header-title is-title\">Thoughts, stories and ideas.</h1>\\n            <form class=\"gh-form\" data-members-form=\"\">\\n    <input class=\"gh-form-input\" type=\"email\" placeholder=\"jamie@example.com\" required=\"\" data-members-email=\"\">\\n    <button class=\"gh-button\" type=\"submit\">\\n        <span><span>Subscribe</span> <svg xmlns=\"http://www.w3.org/2000/svg\" width=\"32\" height=\"32\" fill=\"currentColor\" viewBox=\"0 0 256 256\"><path d=\"M224.49,136.49l-72,72a12,12,0,0,1-17-17L187,140H40a12,12,0,0,1,0-24H187L135.51,64.48a12,12,0,0,1,17-17l72,72A12,12,0,0,1,224.49,136.49Z\"></path></svg></span>\\n        <svg xmlns=\"http://www.w3.org/2000/svg\" height=\"24\" width=\"24\" viewBox=\"0 0 24 24\">\\n    <g stroke-linecap=\"round\" stroke-width=\"2\" fill=\"currentColor\" stroke=\"none\" stroke-linejoin=\"round\" class=\"nc-icon-wrapper\">\\n        <g class=\"nc-loop-dots-4-24-icon-o\">\\n            <circle cx=\"4\" cy=\"12\" r=\"3\"></circle>\\n            <circle cx=\"12\" cy=\"12\" r=\"3\"></circle>\\n            <circle cx=\"20\" cy=\"12\" r=\"3\"></circle>\\n        </g>\\n        <style data-cap=\"butt\">\\n            .nc-loop-dots-4-24-icon-o{--animation-duration:0.8s}\\n            .nc-loop-dots-4-24-icon-o *{opacity:.4;transform:scale(.75);animation:nc-loop-dots-4-anim var(--animation-duration) infinite}\\n            .nc-loop-dots-4-24-icon-o :nth-child(1){transform-origin:4px 12px;animation-delay:-.3s;animation-delay:calc(var(--animation-duration)/-2.666)}\\n            .nc-loop-dots-4-24-icon-o :nth-child(2){transform-origin:12px 12px;animation-delay:-.15s;animation-delay:calc(var(--animation-duration)/-5.333)}\\n            .nc-loop-dots-4-24-icon-o :nth-child(3){transform-origin:20px 12px}\\n            @keyframes nc-loop-dots-4-anim{0%,100%{opacity:.4;transform:scale(.75)}50%{opacity:1;transform:scale(1)}}\\n        </style>\\n    </g>\\n</svg>        <svg class=\"checkmark\" xmlns=\"http://www.w3.org/2000/svg\" viewBox=\"0 0 52 52\">\\n    <path class=\"checkmark__check\" fill=\"none\" d=\"M14.1 27.2l7.1 7.2 16.7-16.8\"></path>\\n    <style>\\n        .checkmark {\\n            width: 40px;\\n            height: 40px;\\n            display: block;\\n            stroke-width: 2.5;\\n            stroke: currentColor;\\n            stroke-miterlimit: 10;\\n        }\\n\\n        .checkmark__check {\\n            transform-origin: 50% 50%;\\n            stroke-dasharray: 48;\\n            stroke-dashoffset: 48;\\n            animation: stroke .3s cubic-bezier(0.650, 0.000, 0.450, 1.000) forwards;\\n        }\\n\\n        @keyframes stroke {\\n            100% { stroke-dashoffset: 0; }\\n        }\\n    </style>\\n</svg>    </button>\\n</form>\\n\\n    </div>\\n\\n</section>    \\n\\n    \\n\\n\\n<section class=\"gh-container is-list gh-outer\">\\n    <div class=\"gh-container-inner gh-inner\">\\n        \\n            <h2 class=\"gh-container-title\">\\n                Latest\\n            </h2>\\n\\n        <main class=\"gh-main\">\\n            <div class=\"gh-feed\">\\n\\n                                <article class=\"gh-card post\">\\n    <a class=\"gh-card-link\" href=\"/the-cost-of-being-weird/\">\\n            <figure class=\"gh-card-image\">\\n                <img srcset=\"/content/images/size/w160/format/webp/2024/05/3bc88edd-b6cf-4be9-aee3-8842fe84c29a.webp 160w,\\n                            /content/images/size/w320/format/webp/2024/05/3bc88edd-b6cf-4be9-aee3-8842fe84c29a.webp 320w,\\n                            /content/images/size/w600/format/webp/2024/05/3bc88edd-b6cf-4be9-aee3-8842fe84c29a.webp 600w,\\n                            /content/images/size/w960/format/webp/2024/05/3bc88edd-b6cf-4be9-aee3-8842fe84c29a.webp 960w,\\n                            /content/images/size/w1200/format/webp/2024/05/3bc88edd-b6cf-4be9-aee3-8842fe84c29a.webp 1200w,\\n                            /content/images/size/w2000/format/webp/2024/05/3bc88edd-b6cf-4be9-aee3-8842fe84c29a.webp 2000w\" sizes=\"320px\" src=\"/content/images/size/w600/2024/05/3bc88edd-b6cf-4be9-aee3-8842fe84c29a.webp\" alt=\"The Cost Of Being Weird\" loading=\"lazy\">\\n            </figure>\\n        <div class=\"gh-card-wrapper\">\\n            <h3 class=\"gh-card-title is-title\">The Cost Of Being Weird</h3>\\n                <p class=\"gh-card-excerpt is-body\">What is your value if you don\\'t fit into an understandable category? There\\'s a definite cost to being an outlier before you are a good outlier.</p>\\n            <footer class=\"gh-card-meta\"><!--\\n             -->\\n                    <span class=\"gh-card-author\">By Leo Guinan</span>\\n                    <time class=\"gh-card-date\" datetime=\"2024-05-01\">May 1, 2024</time>\\n                <!--\\n         --></footer>\\n        </div>\\n    </a>\\n</article>                                <article class=\"gh-card post\">\\n    <a class=\"gh-card-link\" href=\"/joy-the-hardest-emotion/\">\\n            <figure class=\"gh-card-image\">\\n                <img srcset=\"/content/images/size/w160/format/webp/2024/04/GA8x1AsWkAAaZA1.jpg 160w,\\n                            /content/images/size/w320/format/webp/2024/04/GA8x1AsWkAAaZA1.jpg 320w,\\n                            /content/images/size/w600/format/webp/2024/04/GA8x1AsWkAAaZA1.jpg 600w,\\n                            /content/images/size/w960/format/webp/2024/04/GA8x1AsWkAAaZA1.jpg 960w,\\n                            /content/images/size/w1200/format/webp/2024/04/GA8x1AsWkAAaZA1.jpg 1200w,\\n                            /content/images/size/w2000/format/webp/2024/04/GA8x1AsWkAAaZA1.jpg 2000w\" sizes=\"320px\" src=\"/content/images/size/w600/2024/04/GA8x1AsWkAAaZA1.jpg\" alt=\"Joy: The Hardest Emotion\" loading=\"lazy\">\\n            </figure>\\n        <div class=\"gh-card-wrapper\">\\n            <h3 class=\"gh-card-title is-title\">Joy: The Hardest Emotion</h3>\\n                <p class=\"gh-card-excerpt is-body\">Why is it so hard to find joy? I dug into the realm of sports fandom because that\\'s where I\\'ve been feeling a lot of joy lately.</p>\\n            <footer class=\"gh-card-meta\"><!--\\n             -->\\n                    <span class=\"gh-card-author\">By Leo Guinan</span>\\n                    <time class=\"gh-card-date\" datetime=\"2024-04-25\">Apr 25, 2024</time>\\n                <!--\\n         --></footer>\\n        </div>\\n    </a>\\n</article>                                <article class=\"gh-card post\">\\n    <a class=\"gh-card-link\" href=\"/contemplation-of-a-time-traveler/\">\\n            <figure class=\"gh-card-image\">\\n                <img srcset=\"/content/images/size/w160/format/webp/2024/04/leo.guinan_the_mental_time_traveler_1a253a15-8d2f-44a7-ae2f-92305596bbc2.png 160w,\\n                            /content/images/size/w320/format/webp/2024/04/leo.guinan_the_mental_time_traveler_1a253a15-8d2f-44a7-ae2f-92305596bbc2.png 320w,\\n                            /content/images/size/w600/format/webp/2024/04/leo.guinan_the_mental_time_traveler_1a253a15-8d2f-44a7-ae2f-92305596bbc2.png 600w,\\n                            /content/images/size/w960/format/webp/2024/04/leo.guinan_the_mental_time_traveler_1a253a15-8d2f-44a7-ae2f-92305596bbc2.png 960w,\\n                            /content/images/size/w1200/format/webp/2024/04/leo.guinan_the_mental_time_traveler_1a253a15-8d2f-44a7-ae2f-92305596bbc2.png 1200w,\\n                            /content/images/size/w2000/format/webp/2024/04/leo.guinan_the_mental_time_traveler_1a253a15-8d2f-44a7-ae2f-92305596bbc2.png 2000w\" sizes=\"320px\" src=\"/content/images/size/w600/2024/04/leo.guinan_the_mental_time_traveler_1a253a15-8d2f-44a7-ae2f-92305596bbc2.png\" alt=\"Contemplation of a Time Traveler\" loading=\"lazy\">\\n            </figure>\\n        <div class=\"gh-card-wrapper\">\\n            <h3 class=\"gh-card-title is-title\">Contemplation of a Time Traveler</h3>\\n                <p class=\"gh-card-excerpt is-body\">What would you say if I told you that contemplation is your vehicle for traveling through time?</p>\\n            <footer class=\"gh-card-meta\"><!--\\n             -->\\n                    <span class=\"gh-card-author\">By Leo Guinan</span>\\n                    <time class=\"gh-card-date\" datetime=\"2024-04-15\">Apr 15, 2024</time>\\n                <!--\\n         --></footer>\\n        </div>\\n    </a>\\n</article>                                <article class=\"gh-card post\">\\n    <a class=\"gh-card-link\" href=\"/aligning-app-incentives-with-user-attention/\">\\n            <figure class=\"gh-card-image\">\\n                <img srcset=\"/content/images/size/w160/format/webp/2024/04/leo.guinan_the_value_of_human_attention_5ff1bb67-521f-4c91-a2a3-0c5b8667f1b4.png 160w,\\n                            /content/images/size/w320/format/webp/2024/04/leo.guinan_the_value_of_human_attention_5ff1bb67-521f-4c91-a2a3-0c5b8667f1b4.png 320w,\\n                            /content/images/size/w600/format/webp/2024/04/leo.guinan_the_value_of_human_attention_5ff1bb67-521f-4c91-a2a3-0c5b8667f1b4.png 600w,\\n                            /content/images/size/w960/format/webp/2024/04/leo.guinan_the_value_of_human_attention_5ff1bb67-521f-4c91-a2a3-0c5b8667f1b4.png 960w,\\n                            /content/images/size/w1200/format/webp/2024/04/leo.guinan_the_value_of_human_attention_5ff1bb67-521f-4c91-a2a3-0c5b8667f1b4.png 1200w,\\n                            /content/images/size/w2000/format/webp/2024/04/leo.guinan_the_value_of_human_attention_5ff1bb67-521f-4c91-a2a3-0c5b8667f1b4.png 2000w\" sizes=\"320px\" src=\"/content/images/size/w600/2024/04/leo.guinan_the_value_of_human_attention_5ff1bb67-521f-4c91-a2a3-0c5b8667f1b4.png\" alt=\"Aligning App Incentives With User Attention\" loading=\"lazy\">\\n            </figure>\\n        <div class=\"gh-card-wrapper\">\\n            <h3 class=\"gh-card-title is-title\">Aligning App Incentives With User Attention</h3>\\n                <p class=\"gh-card-excerpt is-body\">Want to know how I\\'m thinking about attention + incentives while building out My AI Cofounder? I\\'m taking a much different approach than traditional apps.</p>\\n            <footer class=\"gh-card-meta\"><!--\\n             -->\\n                    <span class=\"gh-card-author\">By Leo Guinan</span>\\n                    <time class=\"gh-card-date\" datetime=\"2024-04-14\">Apr 14, 2024</time>\\n                <!--\\n         --></footer>\\n        </div>\\n    </a>\\n</article>                                <article class=\"gh-card post\">\\n    <a class=\"gh-card-link\" href=\"/resistence/\">\\n            <figure class=\"gh-card-image\">\\n                <img srcset=\"/content/images/size/w160/format/webp/2024/04/leo.guinan_an_author_pushing_ideas_into_pipes_that_go_out_to_bo_dda985b5-81fe-49cb-bbf9-4b22b4a15fa7.png 160w,\\n                            /content/images/size/w320/format/webp/2024/04/leo.guinan_an_author_pushing_ideas_into_pipes_that_go_out_to_bo_dda985b5-81fe-49cb-bbf9-4b22b4a15fa7.png 320w,\\n                            /content/images/size/w600/format/webp/2024/04/leo.guinan_an_author_pushing_ideas_into_pipes_that_go_out_to_bo_dda985b5-81fe-49cb-bbf9-4b22b4a15fa7.png 600w,\\n                            /content/images/size/w960/format/webp/2024/04/leo.guinan_an_author_pushing_ideas_into_pipes_that_go_out_to_bo_dda985b5-81fe-49cb-bbf9-4b22b4a15fa7.png 960w,\\n                            /content/images/size/w1200/format/webp/2024/04/leo.guinan_an_author_pushing_ideas_into_pipes_that_go_out_to_bo_dda985b5-81fe-49cb-bbf9-4b22b4a15fa7.png 1200w,\\n                            /content/images/size/w2000/format/webp/2024/04/leo.guinan_an_author_pushing_ideas_into_pipes_that_go_out_to_bo_dda985b5-81fe-49cb-bbf9-4b22b4a15fa7.png 2000w\" sizes=\"320px\" src=\"/content/images/size/w600/2024/04/leo.guinan_an_author_pushing_ideas_into_pipes_that_go_out_to_bo_dda985b5-81fe-49cb-bbf9-4b22b4a15fa7.png\" alt=\"Going Around Resistance\" loading=\"lazy\">\\n            </figure>\\n        <div class=\"gh-card-wrapper\">\\n            <h3 class=\"gh-card-title is-title\">Going Around Resistance</h3>\\n                <p class=\"gh-card-excerpt is-body\">Experiencing resistance when writing? Try sending the ideas down a different pipe.</p>\\n            <footer class=\"gh-card-meta\"><!--\\n             -->\\n                    <span class=\"gh-card-author\">By Leo Guinan</span>\\n                    <time class=\"gh-card-date\" datetime=\"2024-04-08\">Apr 8, 2024</time>\\n                <!--\\n         --></footer>\\n        </div>\\n    </a>\\n</article>                                <article class=\"gh-card post\">\\n    <a class=\"gh-card-link\" href=\"/intent-vs-intention/\">\\n            <figure class=\"gh-card-image\">\\n                <img srcset=\"/content/images/size/w160/format/webp/2024/04/leo.guinan_intent_vs_intention_27ac24e6-5ab3-4467-aafe-c5d3e1231297.png 160w,\\n                            /content/images/size/w320/format/webp/2024/04/leo.guinan_intent_vs_intention_27ac24e6-5ab3-4467-aafe-c5d3e1231297.png 320w,\\n                            /content/images/size/w600/format/webp/2024/04/leo.guinan_intent_vs_intention_27ac24e6-5ab3-4467-aafe-c5d3e1231297.png 600w,\\n                            /content/images/size/w960/format/webp/2024/04/leo.guinan_intent_vs_intention_27ac24e6-5ab3-4467-aafe-c5d3e1231297.png 960w,\\n                            /content/images/size/w1200/format/webp/2024/04/leo.guinan_intent_vs_intention_27ac24e6-5ab3-4467-aafe-c5d3e1231297.png 1200w,\\n                            /content/images/size/w2000/format/webp/2024/04/leo.guinan_intent_vs_intention_27ac24e6-5ab3-4467-aafe-c5d3e1231297.png 2000w\" sizes=\"320px\" src=\"/content/images/size/w600/2024/04/leo.guinan_intent_vs_intention_27ac24e6-5ab3-4467-aafe-c5d3e1231297.png\" alt=\"Intent vs Intention\" loading=\"lazy\">\\n            </figure>\\n        <div class=\"gh-card-wrapper\">\\n            <h3 class=\"gh-card-title is-title\">Intent vs Intention</h3>\\n                <p class=\"gh-card-excerpt is-body\">What\\'s the difference between intent and intention? The connection to purpose.</p>\\n            <footer class=\"gh-card-meta\"><!--\\n             -->\\n                    <span class=\"gh-card-author\">By Leo Guinan</span>\\n                    <time class=\"gh-card-date\" datetime=\"2024-04-02\">Apr 2, 2024</time>\\n                <!--\\n         --></footer>\\n        </div>\\n    </a>\\n</article>                                <article class=\"gh-card post\">\\n    <a class=\"gh-card-link\" href=\"/the-ideal-quantum-economic-marketplace/\">\\n            <figure class=\"gh-card-image\">\\n                <img srcset=\"/content/images/size/w160/format/webp/2024/03/leo.guinan_quantum_marketplace_1512fb06-2245-457f-9faf-bb0285739b90.png 160w,\\n                            /content/images/size/w320/format/webp/2024/03/leo.guinan_quantum_marketplace_1512fb06-2245-457f-9faf-bb0285739b90.png 320w,\\n                            /content/images/size/w600/format/webp/2024/03/leo.guinan_quantum_marketplace_1512fb06-2245-457f-9faf-bb0285739b90.png 600w,\\n                            /content/images/size/w960/format/webp/2024/03/leo.guinan_quantum_marketplace_1512fb06-2245-457f-9faf-bb0285739b90.png 960w,\\n                            /content/images/size/w1200/format/webp/2024/03/leo.guinan_quantum_marketplace_1512fb06-2245-457f-9faf-bb0285739b90.png 1200w,\\n                            /content/images/size/w2000/format/webp/2024/03/leo.guinan_quantum_marketplace_1512fb06-2245-457f-9faf-bb0285739b90.png 2000w\" sizes=\"320px\" src=\"/content/images/size/w600/2024/03/leo.guinan_quantum_marketplace_1512fb06-2245-457f-9faf-bb0285739b90.png\" alt=\"The Ideal Quantum Economic Marketplace\" loading=\"lazy\">\\n            </figure>\\n        <div class=\"gh-card-wrapper\">\\n            <h3 class=\"gh-card-title is-title\">The Ideal Quantum Economic Marketplace</h3>\\n                <p class=\"gh-card-excerpt is-body\">When you understand the dynamics of a marketplace, you can create a sustainable marketplace that avoids the pitfalls of current architectures.</p>\\n            <footer class=\"gh-card-meta\"><!--\\n             -->\\n                    <span class=\"gh-card-author\">By Leo Guinan</span>\\n                    <time class=\"gh-card-date\" datetime=\"2024-03-17\">Mar 17, 2024</time>\\n                <!--\\n         --></footer>\\n        </div>\\n    </a>\\n</article>                                <article class=\"gh-card post featured\">\\n    <a class=\"gh-card-link\" href=\"/a-new-business-model-for-open-source/\">\\n            <figure class=\"gh-card-image\">\\n                <img srcset=\"/content/images/size/w160/format/webp/2024/03/leo.guinan_a_network_diagram_of_humans_4156876c-6d0c-4763-b5a3-524782ed800a.png 160w,\\n                            /content/images/size/w320/format/webp/2024/03/leo.guinan_a_network_diagram_of_humans_4156876c-6d0c-4763-b5a3-524782ed800a.png 320w,\\n                            /content/images/size/w600/format/webp/2024/03/leo.guinan_a_network_diagram_of_humans_4156876c-6d0c-4763-b5a3-524782ed800a.png 600w,\\n                            /content/images/size/w960/format/webp/2024/03/leo.guinan_a_network_diagram_of_humans_4156876c-6d0c-4763-b5a3-524782ed800a.png 960w,\\n                            /content/images/size/w1200/format/webp/2024/03/leo.guinan_a_network_diagram_of_humans_4156876c-6d0c-4763-b5a3-524782ed800a.png 1200w,\\n                            /content/images/size/w2000/format/webp/2024/03/leo.guinan_a_network_diagram_of_humans_4156876c-6d0c-4763-b5a3-524782ed800a.png 2000w\" sizes=\"320px\" src=\"/content/images/size/w600/2024/03/leo.guinan_a_network_diagram_of_humans_4156876c-6d0c-4763-b5a3-524782ed800a.png\" alt=\"A New Business Model for Open Source\" loading=\"lazy\">\\n            </figure>\\n        <div class=\"gh-card-wrapper\">\\n            <h3 class=\"gh-card-title is-title\">A New Business Model for Open Source</h3>\\n                <p class=\"gh-card-excerpt is-body\">Getting resources to the creators/maintainers of open source packages has traditionally been tough. So I decided to make it easier.\\n\\nThe next model of open source: the venture studio + Nexus.</p>\\n            <footer class=\"gh-card-meta\"><!--\\n             -->\\n                    <span class=\"gh-card-author\">By Leo Guinan</span>\\n                    <time class=\"gh-card-date\" datetime=\"2024-03-08\">Mar 8, 2024</time>\\n                <!--\\n         --></footer>\\n        </div>\\n    </a>\\n</article>                                <article class=\"gh-card post\">\\n    <a class=\"gh-card-link\" href=\"/embracing-ambition/\">\\n            <figure class=\"gh-card-image\">\\n                <img srcset=\"/content/images/size/w160/format/webp/2024/03/leo.guinan_A_winding_path_or_staircase_leading_up_towards_a_bri_21cd146f-9ac6-4485-a9d0-d5de7be0c1ea.png 160w,\\n                            /content/images/size/w320/format/webp/2024/03/leo.guinan_A_winding_path_or_staircase_leading_up_towards_a_bri_21cd146f-9ac6-4485-a9d0-d5de7be0c1ea.png 320w,\\n                            /content/images/size/w600/format/webp/2024/03/leo.guinan_A_winding_path_or_staircase_leading_up_towards_a_bri_21cd146f-9ac6-4485-a9d0-d5de7be0c1ea.png 600w,\\n                            /content/images/size/w960/format/webp/2024/03/leo.guinan_A_winding_path_or_staircase_leading_up_towards_a_bri_21cd146f-9ac6-4485-a9d0-d5de7be0c1ea.png 960w,\\n                            /content/images/size/w1200/format/webp/2024/03/leo.guinan_A_winding_path_or_staircase_leading_up_towards_a_bri_21cd146f-9ac6-4485-a9d0-d5de7be0c1ea.png 1200w,\\n                            /content/images/size/w2000/format/webp/2024/03/leo.guinan_A_winding_path_or_staircase_leading_up_towards_a_bri_21cd146f-9ac6-4485-a9d0-d5de7be0c1ea.png 2000w\" sizes=\"320px\" src=\"/content/images/size/w600/2024/03/leo.guinan_A_winding_path_or_staircase_leading_up_towards_a_bri_21cd146f-9ac6-4485-a9d0-d5de7be0c1ea.png\" alt=\"Embracing Ambition\" loading=\"lazy\">\\n            </figure>\\n        <div class=\"gh-card-wrapper\">\\n            <h3 class=\"gh-card-title is-title\">Embracing Ambition</h3>\\n                <p class=\"gh-card-excerpt is-body\">What does ambition mean to you? I\\'ve been struggling with my internalized feelings about ambition conflicting my personal ambition.</p>\\n            <footer class=\"gh-card-meta\"><!--\\n             -->\\n                    <span class=\"gh-card-author\">By Leo Guinan</span>\\n                    <time class=\"gh-card-date\" datetime=\"2024-03-04\">Mar 4, 2024</time>\\n                <!--\\n         --></footer>\\n        </div>\\n    </a>\\n</article>                                <article class=\"gh-card post\">\\n    <a class=\"gh-card-link\" href=\"/to-fight-progress-is-human-nature/\">\\n            <figure class=\"gh-card-image\">\\n                <img srcset=\"/content/images/size/w160/format/webp/2024/02/leo.guinan_a_caveman_fighting_a_futuristic_robot_signifying_the_46183983-c871-47e3-a090-f30e77dcf2da.png 160w,\\n                            /content/images/size/w320/format/webp/2024/02/leo.guinan_a_caveman_fighting_a_futuristic_robot_signifying_the_46183983-c871-47e3-a090-f30e77dcf2da.png 320w,\\n                            /content/images/size/w600/format/webp/2024/02/leo.guinan_a_caveman_fighting_a_futuristic_robot_signifying_the_46183983-c871-47e3-a090-f30e77dcf2da.png 600w,\\n                            /content/images/size/w960/format/webp/2024/02/leo.guinan_a_caveman_fighting_a_futuristic_robot_signifying_the_46183983-c871-47e3-a090-f30e77dcf2da.png 960w,\\n                            /content/images/size/w1200/format/webp/2024/02/leo.guinan_a_caveman_fighting_a_futuristic_robot_signifying_the_46183983-c871-47e3-a090-f30e77dcf2da.png 1200w,\\n                            /content/images/size/w2000/format/webp/2024/02/leo.guinan_a_caveman_fighting_a_futuristic_robot_signifying_the_46183983-c871-47e3-a090-f30e77dcf2da.png 2000w\" sizes=\"320px\" src=\"/content/images/size/w600/2024/02/leo.guinan_a_caveman_fighting_a_futuristic_robot_signifying_the_46183983-c871-47e3-a090-f30e77dcf2da.png\" alt=\"To Fight Progress Is Human Nature\" loading=\"lazy\">\\n            </figure>\\n        <div class=\"gh-card-wrapper\">\\n            <h3 class=\"gh-card-title is-title\">To Fight Progress Is Human Nature</h3>\\n                <p class=\"gh-card-excerpt is-body\">Why do we feel the need to fight progress?\\n\\nBecause we feel like it takes away from our value that we\\'ve built up over the years. Here\\'s a story about me doing this to the exteme.</p>\\n            <footer class=\"gh-card-meta\"><!--\\n             -->\\n                    <span class=\"gh-card-author\">By Leo Guinan</span>\\n                    <time class=\"gh-card-date\" datetime=\"2024-02-16\">Feb 16, 2024</time>\\n                <!--\\n         --></footer>\\n        </div>\\n    </a>\\n</article>                                <article class=\"gh-card post no-image\">\\n    <a class=\"gh-card-link\" href=\"/build-economies-not-businesses/\">\\n        <div class=\"gh-card-wrapper\">\\n            <h3 class=\"gh-card-title is-title\">Build Economies, Not Businesses</h3>\\n                <p class=\"gh-card-excerpt is-body\">We need to simplify how we think about building businesses. Let\\'s go back to first principles and build economies instead.</p>\\n            <footer class=\"gh-card-meta\"><!--\\n             -->\\n                    <span class=\"gh-card-author\">By Leo Guinan</span>\\n                    <time class=\"gh-card-date\" datetime=\"2024-02-13\">Feb 13, 2024</time>\\n                <!--\\n         --></footer>\\n        </div>\\n    </a>\\n</article>                                <article class=\"gh-card post featured no-image\">\\n    <a class=\"gh-card-link\" href=\"/in-order-to-accelerate-we-have-to-let-go/\">\\n        <div class=\"gh-card-wrapper\">\\n            <h3 class=\"gh-card-title is-title\">In Order to Accelerate, We Have To Let Go</h3>\\n                <p class=\"gh-card-excerpt is-body\">we\\'ve got a large number of people living in a linear-growth economy that exists within the exponential-growth actual economy.\\nThis is why the economy seems healthy according to the data, but if you ask people down toward the bottom of the economy, it sucks.</p>\\n            <footer class=\"gh-card-meta\"><!--\\n             -->\\n                    <span class=\"gh-card-author\">By Leo Guinan</span>\\n                    <time class=\"gh-card-date\" datetime=\"2023-12-29\">Dec 29, 2023</time>\\n                <!--\\n         --></footer>\\n        </div>\\n    </a>\\n</article>                    \\n\\n\\n            </div>\\n        </main>\\n\\n\\n\\n    </div>\\n</section>\\n    \\n    <footer class=\"gh-footer gh-outer\">\\n    <div class=\"gh-footer-inner gh-inner\">\\n\\n        <div class=\"gh-footer-bar\">\\n            <span class=\"gh-footer-logo is-title\">\\n                    Idea Supply Chain\\n            </span>\\n            <nav class=\"gh-footer-menu\">\\n                <ul class=\"nav\">\\n    <li class=\"nav-sign-up nav-current\"><a href=\"#/portal/\">Sign up</a></li>\\n</ul>\\n\\n            </nav>\\n            <div class=\"gh-footer-copyright\">\\n                Powered by <a href=\"https://ghost.org/\" target=\"_blank\" rel=\"noopener\">Ghost</a>\\n            </div>\\n        </div>\\n        \\n                <section class=\"gh-footer-signup\">\\n                    <h2 class=\"gh-footer-signup-header is-title\">\\n                        Idea Supply Chain\\n                    </h2>\\n                    <p class=\"gh-footer-signup-subhead is-body\">\\n                        Thoughts, stories and ideas.\\n                    </p>\\n                    <form class=\"gh-form\" data-members-form=\"\">\\n    <input class=\"gh-form-input\" type=\"email\" placeholder=\"jamie@example.com\" required=\"\" data-members-email=\"\">\\n    <button class=\"gh-button\" type=\"submit\">\\n        <span><span>Subscribe</span> <svg xmlns=\"http://www.w3.org/2000/svg\" width=\"32\" height=\"32\" fill=\"currentColor\" viewBox=\"0 0 256 256\"><path d=\"M224.49,136.49l-72,72a12,12,0,0,1-17-17L187,140H40a12,12,0,0,1,0-24H187L135.51,64.48a12,12,0,0,1,17-17l72,72A12,12,0,0,1,224.49,136.49Z\"></path></svg></span>\\n        <svg xmlns=\"http://www.w3.org/2000/svg\" height=\"24\" width=\"24\" viewBox=\"0 0 24 24\">\\n    <g stroke-linecap=\"round\" stroke-width=\"2\" fill=\"currentColor\" stroke=\"none\" stroke-linejoin=\"round\" class=\"nc-icon-wrapper\">\\n        <g class=\"nc-loop-dots-4-24-icon-o\">\\n            <circle cx=\"4\" cy=\"12\" r=\"3\"></circle>\\n            <circle cx=\"12\" cy=\"12\" r=\"3\"></circle>\\n            <circle cx=\"20\" cy=\"12\" r=\"3\"></circle>\\n        </g>\\n        <style data-cap=\"butt\">\\n            .nc-loop-dots-4-24-icon-o{--animation-duration:0.8s}\\n            .nc-loop-dots-4-24-icon-o *{opacity:.4;transform:scale(.75);animation:nc-loop-dots-4-anim var(--animation-duration) infinite}\\n            .nc-loop-dots-4-24-icon-o :nth-child(1){transform-origin:4px 12px;animation-delay:-.3s;animation-delay:calc(var(--animation-duration)/-2.666)}\\n            .nc-loop-dots-4-24-icon-o :nth-child(2){transform-origin:12px 12px;animation-delay:-.15s;animation-delay:calc(var(--animation-duration)/-5.333)}\\n            .nc-loop-dots-4-24-icon-o :nth-child(3){transform-origin:20px 12px}\\n            @keyframes nc-loop-dots-4-anim{0%,100%{opacity:.4;transform:scale(.75)}50%{opacity:1;transform:scale(1)}}\\n        </style>\\n    </g>\\n</svg>        <svg class=\"checkmark\" xmlns=\"http://www.w3.org/2000/svg\" viewBox=\"0 0 52 52\">\\n    <path class=\"checkmark__check\" fill=\"none\" d=\"M14.1 27.2l7.1 7.2 16.7-16.8\"></path>\\n    <style>\\n        .checkmark {\\n            width: 40px;\\n            height: 40px;\\n            display: block;\\n            stroke-width: 2.5;\\n            stroke: currentColor;\\n            stroke-miterlimit: 10;\\n        }\\n\\n        .checkmark__check {\\n            transform-origin: 50% 50%;\\n            stroke-dasharray: 48;\\n            stroke-dashoffset: 48;\\n            animation: stroke .3s cubic-bezier(0.650, 0.000, 0.450, 1.000) forwards;\\n        }\\n\\n        @keyframes stroke {\\n            100% { stroke-dashoffset: 0; }\\n        }\\n    </style>\\n</svg>    </button>\\n</form>                </section>\\n\\n    </div>\\n</footer>    \\n</div>\\n\\n\\n<script src=\"/assets/built/source.js?v=1be1ca579d\"></script>\\n\\n\\n\\n\\n\\n<div id=\"ghost-portal-root\"></div><div id=\"sodo-search-root\"></div></body></html>', metadata={'source': 'https://ideasupplychain.com'})]"
      ]
     },
     "execution_count": 9,
     "metadata": {},
     "output_type": "execute_result"
    }
   ],
   "source": [
    "html"
   ]
  },
  {
   "cell_type": "code",
   "execution_count": 10,
   "id": "7f87289a-36c1-48f5-84a0-b4e1ddf5aa71",
   "metadata": {},
   "outputs": [],
   "source": [
    "bs_transformer = BeautifulSoupTransformer()\n",
    "docs_transformed = bs_transformer.transform_documents(html)"
   ]
  },
  {
   "cell_type": "code",
   "execution_count": 14,
   "id": "3659dc55-91a2-40ee-a8b8-ec2c76a4919d",
   "metadata": {},
   "outputs": [
    {
     "name": "stdout",
     "output_type": "stream",
     "text": [
      "Extracting content with LLM\n",
      "[{'blog_excerpt': \"What is your value if you don't fit into an understandable \"\n",
      "                  \"category? There's a definite cost to being an outlier \"\n",
      "                  'before you are a good outlier.',\n",
      "  'blog_post': \"What is your value if you don't fit into an understandable \"\n",
      "               \"category? There's a definite cost to being an outlier before \"\n",
      "               'you are a good outlier. I’ve seen all sorts of things about '\n",
      "               'why it’s good to be weird. It’s important to stand out from '\n",
      "               'the crowd if you want to be noticed. That makes sense. In '\n",
      "               'order to be an outlier, you need to be an outlier, right? But '\n",
      "               'how weird is too weird? There’s something I’ve noticed. The '\n",
      "               'explanation has eluded me thus far, but I think I might have '\n",
      "               'it now, so let’s take a shot at describing it. When you are '\n",
      "               'too weird, you are really hard to measure. Think about it. '\n",
      "               'Everything has to be measured in order to be understood. You '\n",
      "               'need to hit your OKRs. You have your performance reviews. You '\n",
      "               'track your activity levels, your calories, your sleep scores. '\n",
      "               'That works when something has a “good” range, or a “normal” '\n",
      "               'range. You can track your sleep score from 0-100. So can '\n",
      "               'somebody else. These measurements work because they can be '\n",
      "               'scored. When I helped with interviewing at a startup, we set '\n",
      "               'up a rubric and had ratings based on several categories. Then '\n",
      "               'we would rank the candidates on their performance based on '\n",
      "               'those categories. We took something big that had to be shared '\n",
      "               '(a candidate’s performance on a coding screen) and reduced it '\n",
      "               'to a set of numbers that could be understood and calibrated '\n",
      "               'against. Then there’s the whole A/B testing thing. You reduce '\n",
      "               'something complex (user behavior) down to a metric, and then '\n",
      "               'you try to make that metric get better. You make changes to '\n",
      "               'get the desired result you want, without understanding '\n",
      "               'everything you are doing in the meantime. Weird doesn’t fit '\n",
      "               'into those metrics. It’s something individual, not shareable. '\n",
      "               'Being A/B tested when weird has the goal of making you less '\n",
      "               'weird, because it wants you to perform the same way as '\n",
      "               'everyone else. How do we know if something is improving if we '\n",
      "               'can’t measure it? Oooh, that’s a great question, isn’t it? We '\n",
      "               'are obsessed with growth and improvement. If we aren’t '\n",
      "               'growing, we’re dying. But here’s the funny thing about that: '\n",
      "               'the areas I’ve improved the most? No idea how to possibly '\n",
      "               'measure them. Area 1: knowledge. I’ve developed an '\n",
      "               'understanding of the world around me. Not because I had to for '\n",
      "               'some test, but because I’ve been curious. I’ve been exploring. '\n",
      "               'I’ve been thinking. I’ve been pondering. That’s led me down '\n",
      "               'paths to things that don’t exist currently in the minds of '\n",
      "               'people. How can you measure new knowledge? Area 2: self. I’ve '\n",
      "               'spent a lot of time and energy understanding myself. I write a '\n",
      "               'lot, some published, some not. I pay attention to what I’m '\n",
      "               'feeling. I think about what I want for my future and I try to '\n",
      "               'turn that into a reality. I no longer want things because I '\n",
      "               'think I’m supposed to. I go deeper on what I want, in order to '\n",
      "               'understand what I’m lacking. Again, no idea how to measure '\n",
      "               'that. It’s easy to look at the market value of a software '\n",
      "               'engineer with 15 years of experience who can use Typescript, '\n",
      "               'Python, NextJS, etc. We reduce people to stats and then '\n",
      "               'calculate averages. But what’s the value of a software '\n",
      "               'engineer + writer + podcaster + YouTuber + Quantum Economist? '\n",
      "               'Fuck if I know. And shit, that’s been eating at me. Because '\n",
      "               'I’m building products, but those products aren’t good enough '\n",
      "               'yet. A product is something someone will pay for. But if I '\n",
      "               'can’t value myself on the market, and I can’t get a product '\n",
      "               'working, how the hell am I supposed to eat? That part is '\n",
      "               'really tough for me. The people I really want to help can’t '\n",
      "               'afford to pay me. The people that can pay me typically have '\n",
      "               'something that works for them, and the cost of learning what I '\n",
      "               'have to teach them feels like too much of a leap for them. Or, '\n",
      "               'in some cases, might actually realize that they are overvalued '\n",
      "               'for the work they are currently doing. That’s not something '\n",
      "               'that people necessarily want to hear. People do want to listen '\n",
      "               \"to people with weird ideas, because there's a lot of value in \"\n",
      "               'being early to new ideas. That\\'s the \"alpha\" spoken of in '\n",
      "               'investment circles. But in order to get them to listen to you, '\n",
      "               'there needs to be something that they',\n",
      "  'blog_title': 'The Cost Of Being Weird'}]\n"
     ]
    }
   ],
   "source": [
    "from submind.llms.submind import SubmindModelFactory\n",
    "\n",
    "\n",
    "llm = SubmindModelFactory.get_model(\"testing-scraper\", \"scraping\", 0)\n",
    "from langchain.chains import create_extraction_chain\n",
    "\n",
    "schema = {\n",
    "    \"properties\": {\n",
    "        \"blog_title\": {\"type\": \"string\"},\n",
    "        \"blog_excerpt\": {\"type\": \"string\"},\n",
    "        \"blog_post\": {\"type\": \"string\"},\n",
    "    },\n",
    "    \"required\": [\"blog_title\", \"blog_post\", \"blog_excerpt\"],\n",
    "}\n",
    "\n",
    "\n",
    "def extract(content: str, schema: dict):\n",
    "    return create_extraction_chain(schema=schema, llm=llm).run(content)\n",
    "\n",
    "    \n",
    "import pprint\n",
    "\n",
    "from langchain_text_splitters import RecursiveCharacterTextSplitter\n",
    "\n",
    "\n",
    "def scrape_with_playwright(urls, schema):\n",
    "    loader = AsyncChromiumLoader(urls)\n",
    "    docs = loader.load()\n",
    "    bs_transformer = BeautifulSoupTransformer()\n",
    "    docs_transformed = bs_transformer.transform_documents(\n",
    "        docs, tags_to_extract=[\"h1\", \"p\"]\n",
    "    )\n",
    "    print(\"Extracting content with LLM\")\n",
    "\n",
    "    # Grab the first 1000 tokens of the site\n",
    "    splitter = RecursiveCharacterTextSplitter.from_tiktoken_encoder(\n",
    "        chunk_size=1000, chunk_overlap=0\n",
    "    )\n",
    "    splits = splitter.split_documents(docs_transformed)\n",
    "\n",
    "    # Process the first split\n",
    "    extracted_content = extract(schema=schema, content=splits[0].page_content)\n",
    "    pprint.pprint(extracted_content)\n",
    "    return extracted_content\n",
    "\n",
    "\n",
    "urls = [\"https://ideasupplychain.com/the-cost-of-being-weird/\"]\n",
    "extracted_content = scrape_with_playwright(urls, schema=schema)"
   ]
  },
  {
   "cell_type": "code",
   "execution_count": 18,
   "id": "8c0cef68-48a8-47ee-a0eb-9b0fa1e392fc",
   "metadata": {},
   "outputs": [
    {
     "name": "stdout",
     "output_type": "stream",
     "text": [
      "{'questions': ['What is the value of being an outlier?', 'How can you measure new knowledge?', 'Why is it important to stand out from the crowd?', 'What are OKRs and how do they relate to performance reviews?', \"How do you measure personal growth that doesn't fit into traditional metrics?\", 'What challenges do outliers face in the job market?', 'How can you determine the market value of a multi-skilled individual?', 'Why do people want to listen to individuals with weird ideas?', 'What is A/B testing and how does it relate to user behavior?', \"How can you help people who can't afford to pay for your services?\"]}\n"
     ]
    }
   ],
   "source": [
    "from langchain_core.output_parsers import StrOutputParser\n",
    "from langchain_core.output_parsers.openai_functions import JsonOutputFunctionsParser, JsonKeyOutputFunctionsParser\n",
    "from langchain_core.prompts import ChatPromptTemplate\n",
    "QUESTION_PROMPT = \"\"\" You are an expert question writer. Based on this blog post: {post}\n",
    "\n",
    "what are the questions that can be answered by it?\n",
    "\n",
    "\"\"\"\n",
    "\n",
    "functions = [\n",
    "    {\n",
    "        \"name\": \"extract_questions\",\n",
    "        \"description\": \"decide which questions can be answered\",\n",
    "        \"parameters\": {\n",
    "            \"type\": \"object\",\n",
    "            \"properties\": {\n",
    "                \"questions\": {\n",
    "                    \"type\": \"array\",\n",
    "                    \"description\": \"which questions can be answered\",\n",
    "                    \"items\": {\n",
    "                        \"type\": \"string\",\n",
    "                        \"description\": \"the question\"\n",
    "                        \n",
    "                        \n",
    "\n",
    "                    }\n",
    "                },\n",
    "            },\n",
    "            \"required\": [\"questions\"],\n",
    "        },\n",
    "    }\n",
    "]\n",
    "    \n",
    "\n",
    "\n",
    "\n",
    "prompt = ChatPromptTemplate.from_template(QUESTION_PROMPT)\n",
    "chain = prompt | llm.bind(function_call={\"name\": \"extract_questions\"},\n",
    "                                functions=functions) | JsonOutputFunctionsParser()\n",
    "\n",
    "\n",
    "response = chain.invoke(\n",
    "    {\"post\": extracted_content[0]['blog_post'],\n",
    "     \n",
    "    })\n",
    "\n",
    "print(response)\n"
   ]
  },
  {
   "cell_type": "code",
   "execution_count": 19,
   "id": "5882e1c5-5488-4b46-93d3-5deef2c273b8",
   "metadata": {},
   "outputs": [
    {
     "name": "stderr",
     "output_type": "stream",
     "text": [
      "/Users/leoguinan/Library/Caches/pypoetry/virtualenvs/backend-hNkkeHAR-py3.12/lib/python3.12/site-packages/pinecone/data/index.py:1: TqdmWarning: IProgress not found. Please update jupyter and ipywidgets. See https://ipywidgets.readthedocs.io/en/stable/user_install.html\n",
      "  from tqdm.autonotebook import tqdm\n",
      "/Users/leoguinan/Library/Caches/pypoetry/virtualenvs/backend-hNkkeHAR-py3.12/lib/python3.12/site-packages/langchain_core/_api/deprecation.py:119: LangChainDeprecationWarning: The class `OpenAIEmbeddings` was deprecated in LangChain 0.0.9 and will be removed in 0.3.0. An updated version of the class exists in the langchain-openai package and should be used instead. To use it run `pip install -U langchain-openai` and import as `from langchain_openai import OpenAIEmbeddings`.\n",
      "  warn_deprecated(\n",
      "/Users/leoguinan/Library/Caches/pypoetry/virtualenvs/backend-hNkkeHAR-py3.12/lib/python3.12/site-packages/langchain_core/_api/deprecation.py:119: LangChainDeprecationWarning: The class `Pinecone` was deprecated in LangChain 0.0.18 and will be removed in 0.3.0. An updated version of the class exists in the langchain-pinecone package and should be used instead. To use it run `pip install -U langchain-pinecone` and import as `from langchain_pinecone import Pinecone`.\n",
      "  warn_deprecated(\n"
     ]
    },
    {
     "name": "stdout",
     "output_type": "stream",
     "text": [
      "Making request to Podscan\n",
      "Found 5 episodes\n",
      "Found 5 episodes\n",
      "Making request to Podscan\n",
      "Found 5 episodes\n",
      "Found 5 episodes\n",
      "Making request to Podscan\n",
      "Found 5 episodes\n",
      "Found 5 episodes\n",
      "Making request to Podscan\n",
      "Found 5 episodes\n",
      "Found 5 episodes\n",
      "Making request to Podscan\n",
      "Found 5 episodes\n",
      "Found 5 episodes\n",
      "Making request to Podscan\n",
      "Found 5 episodes\n",
      "Found 5 episodes\n",
      "Making request to Podscan\n",
      "Found 5 episodes\n",
      "Found 5 episodes\n",
      "Making request to Podscan\n",
      "Found 5 episodes\n",
      "Found 5 episodes\n",
      "Making request to Podscan\n",
      "Found 5 episodes\n",
      "Found 5 episodes\n",
      "Making request to Podscan\n",
      "Found 5 episodes\n",
      "Found 5 episodes\n"
     ]
    }
   ],
   "source": [
    "from podcast.tasks import detailed_search\n",
    "for question in response['questions']:\n",
    "    detailed_search(question)\n",
    "    "
   ]
  },
  {
   "cell_type": "code",
   "execution_count": null,
   "id": "92eef89a-ccad-4c21-b0c3-bb65032a3fb9",
   "metadata": {},
   "outputs": [],
   "source": []
  }
 ],
 "metadata": {
  "kernelspec": {
   "display_name": "Django Environment",
   "language": "python",
   "name": "django_env"
  },
  "language_info": {
   "codemirror_mode": {
    "name": "ipython",
    "version": 3
   },
   "file_extension": ".py",
   "mimetype": "text/x-python",
   "name": "python",
   "nbconvert_exporter": "python",
   "pygments_lexer": "ipython3",
   "version": "3.12.1"
  }
 },
 "nbformat": 4,
 "nbformat_minor": 5
}
